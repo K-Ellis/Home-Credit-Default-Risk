{
 "cells": [
  {
   "cell_type": "code",
   "execution_count": 4,
   "metadata": {},
   "outputs": [],
   "source": [
    "import boto3"
   ]
  },
  {
   "cell_type": "code",
   "execution_count": 8,
   "metadata": {},
   "outputs": [
    {
     "name": "stdout",
     "output_type": "stream",
     "text": [
      "Id: i-07155224145743782\n",
      "Platform: None\n",
      "Type: t2.micro\n",
      "Public IPv4: 35.158.198.165\n",
      "AMI: ami-090f10efc254eaf55\n",
      "State: {'Code': 16, 'Name': 'running'}\n",
      "\n"
     ]
    }
   ],
   "source": [
    "ec2 = boto3.resource('ec2', region_name='eu-central-1')\n",
    "for instance in ec2.instances.all():\n",
    "     print(\n",
    "         \"Id: {0}\\nPlatform: {1}\\nType: {2}\\nPublic IPv4: {3}\\nAMI: {4}\\nState: {5}\\n\".format(\n",
    "         instance.id, instance.platform, instance.instance_type, instance.public_ip_address, instance.image.id, instance.state\n",
    "         )\n",
    "     )"
   ]
  },
  {
   "cell_type": "code",
   "execution_count": null,
   "metadata": {},
   "outputs": [],
   "source": [
    "# Create new key pair\n",
    "\n",
    "import boto3\n",
    "ec2 = boto3.resource('ec2')\n",
    "\n",
    "# create a file to store the key locally\n",
    "outfile = open('ec2-keypair.pem','w')\n",
    "\n",
    "# call the boto ec2 function to create a key pair\n",
    "key_pair = ec2.create_key_pair(KeyName='ec2-keypair')\n",
    "\n",
    "# capture the key and store it in a file\n",
    "KeyPairOut = str(key_pair.key_material)\n",
    "print(KeyPairOut)\n",
    "outfile.write(KeyPairOut)"
   ]
  },
  {
   "cell_type": "code",
   "execution_count": null,
   "metadata": {},
   "outputs": [],
   "source": [
    "# create new EC2 instance \n",
    "\n",
    "import boto3\n",
    "ec2 = boto3.resource('ec2')\n",
    "\n",
    "# create a new EC2 instance\n",
    "instances = ec2.create_instances(\n",
    "     ImageId='ami-00b6a8a2bd28daf19',\n",
    "     MinCount=1,\n",
    "     MaxCount=2,\n",
    "     InstanceType='t2.micro',\n",
    "     KeyName='ec2-keypair'\n",
    " )"
   ]
  },
  {
   "cell_type": "code",
   "execution_count": null,
   "metadata": {},
   "outputs": [],
   "source": []
  }
 ],
 "metadata": {
  "kernelspec": {
   "display_name": "Python 3",
   "language": "python",
   "name": "python3"
  },
  "language_info": {
   "codemirror_mode": {
    "name": "ipython",
    "version": 3
   },
   "file_extension": ".py",
   "mimetype": "text/x-python",
   "name": "python",
   "nbconvert_exporter": "python",
   "pygments_lexer": "ipython3",
   "version": "3.7.1"
  }
 },
 "nbformat": 4,
 "nbformat_minor": 2
}
