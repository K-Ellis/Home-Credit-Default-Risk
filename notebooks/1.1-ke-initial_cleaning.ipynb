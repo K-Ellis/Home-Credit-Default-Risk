{
 "cells": [
  {
   "cell_type": "markdown",
   "metadata": {},
   "source": [
    "# Import Packages"
   ]
  },
  {
   "cell_type": "code",
   "execution_count": 1,
   "metadata": {},
   "outputs": [],
   "source": [
    "import pandas as pd\n",
    "\n",
    "def replace_DAYS_BIRTH_w_AGE(df_in):\n",
    "    df_in[\"AGE\"] = (df_in['DAYS_BIRTH'] / 365)\n",
    "    df_in = df_in.drop(['DAYS_BIRTH'], axis=1)\n",
    "    return df_in\n",
    "\n",
    "def replace_DAYS_EMPLOYED_w_YEARS_EMPLOYED(df_in):\n",
    "    df_in[\"YEARS_EMPLOYED\"] = (df_in['DAYS_EMPLOYED'] / -365)\n",
    "    df_in = df_in.drop(['DAYS_EMPLOYED'], axis=1)\n",
    "    return df_in\n",
    "\n",
    "def anom_YEARS_EMPLOYED(df_in):\n",
    "    df_in['YEARS_EMPLOYED_anom'] = df_in[\"YEARS_EMPLOYED\"] < 0\n",
    "    df_in['YEARS_EMPLOYED_anom'] = df_in['YEARS_EMPLOYED_anom'].astype(int)\n",
    "    \n",
    "    df_in[\"YEARS_EMPLOYED\"].loc[df_in[\"YEARS_EMPLOYED\"] < 0] = np.NaN\n",
    "    return df_in\n",
    "\n",
    "def cleaning(df_in):\n",
    "    df_in = replace_DAYS_BIRTH_w_AGE(df_in)\n",
    "    df_in = replace_DAYS_EMPLOYED_w_YEARS_EMPLOYED(df_in)\n",
    "    df_in = anom_YEARS_EMPLOYED(df_in)\n",
    "    return df_in\n",
    "\n",
    "app_train = pd.read_csv(\"../data/raw/all/application_train.csv\")\n",
    "app_test = pd.read_csv(\"../data/raw/all/application_train.csv\")\n",
    "\n"
   ]
  },
  {
   "cell_type": "code",
   "execution_count": null,
   "metadata": {},
   "outputs": [],
   "source": []
  }
 ],
 "metadata": {
  "kernelspec": {
   "display_name": "Python 3",
   "language": "python",
   "name": "python3"
  },
  "language_info": {
   "codemirror_mode": {
    "name": "ipython",
    "version": 3
   },
   "file_extension": ".py",
   "mimetype": "text/x-python",
   "name": "python",
   "nbconvert_exporter": "python",
   "pygments_lexer": "ipython3",
   "version": "3.7.1"
  }
 },
 "nbformat": 4,
 "nbformat_minor": 2
}
