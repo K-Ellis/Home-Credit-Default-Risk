{
 "cells": [
  {
   "cell_type": "code",
   "execution_count": 3,
   "metadata": {},
   "outputs": [],
   "source": [
    "from pyspark.sql import SparkSession\n",
    "from pyspark.sql.types import StructField, StringType, IntegerType, StructType, DoubleType, DecimalType\n",
    "from pyspark.sql.functions import when, lit, col"
   ]
  },
  {
   "cell_type": "code",
   "execution_count": 5,
   "metadata": {},
   "outputs": [],
   "source": [
    "spark = SparkSession.builder.appName(\"ETL\").getOrCreate()\n",
    "\n",
    "raw_data_loc = \"../data/raw/application/application_train.csv\"\n",
    "df_raw = spark.read.csv(raw_data_loc, inferSchema=True, header=True)\n",
    "\n",
    "cleaned_data_loc = \"../data/processed/\""
   ]
  },
  {
   "cell_type": "code",
   "execution_count": 6,
   "metadata": {},
   "outputs": [],
   "source": [
    "#df_raw.show()\n",
    "# df_raw.columns\n",
    "# df_raw.printSchema()\n",
    "# df_raw.describe()"
   ]
  },
  {
   "cell_type": "code",
   "execution_count": 7,
   "metadata": {},
   "outputs": [],
   "source": [
    "# val dfNew = df.withColumn(\"newColName\", df.originalColName.cast(IntegerType))\n",
    "#     .drop(\"originalColName\").withColumnRenamed(\"newColName\", \"originalColName\")"
   ]
  },
  {
   "cell_type": "code",
   "execution_count": 8,
   "metadata": {},
   "outputs": [
    {
     "data": {
      "text/plain": [
       "True"
      ]
     },
     "execution_count": 8,
     "metadata": {},
     "output_type": "execute_result"
    }
   ],
   "source": [
    "# Replace DAYS_BIRTH with AGE\n",
    "df_age = df_raw.withColumn(\"AGE\", (df_raw['DAYS_BIRTH'] / -365).cast(IntegerType())).drop(\"DAYS_BIRTH\")\n",
    "# df_age.select(\"AGE\").show()\n",
    "# df_age.select(\"DAYS_BIRTH\").show()\n",
    "\n",
    "# Replace DAYS_EMPLOYED with YEARS_EMPLOYED\n",
    "df_employed = df_age.withColumn(\"YEARS_EMPLOYED_with_anom\", (df_age[\"DAYS_EMPLOYED\"] / -365).cast(DecimalType(10,4))).drop(\"DAYS_EMPLOYED\")\n",
    "# df_employed.select(\"YEARS_EMPLOYED\").show()\n",
    "\n",
    "# anom_YEARS_EMPLOYED\n",
    "df_employed_anom = df_employed.withColumn(\"YEARS_EMPLOYED_anom\", (df_employed[\"YEARS_EMPLOYED_with_anom\"] < 0).cast(IntegerType()))\n",
    "df_employed_anom = df_employed_anom.withColumn(\"YEARS_EMPLOYED\", when(df_employed[\"YEARS_EMPLOYED_with_anom\"] >= 0, df_employed[\"YEARS_EMPLOYED_with_anom\"]))\n",
    "df_employed_anom = df_employed_anom.drop(\"YEARS_EMPLOYED_with_anom\")\n",
    "# df_employed_anom.select([\"YEARS_EMPLOYED_anom\", \"YEARS_EMPLOYED\"]).show()\n",
    "\n",
    "def replace_with_NA(col, to_replace):\n",
    "    return when(col != to_replace, col)\n",
    "\n",
    "# Remove the 2 Unknown values\n",
    "df_fam_null = df_employed_anom.withColumn(\"NAME_FAMILY_STATUS\", \n",
    "                                            replace_with_NA(df_employed_anom[\"NAME_FAMILY_STATUS\"],\n",
    "                                                            \"Unknown\"\n",
    "                                                           )\n",
    "                                         )\n",
    "# df_fam_null.select(\"NAME_FAMILY_STATUS\").filter(col(\"NAME_FAMILY_STATUS\").isNull()).show()\n",
    "\n",
    "# Remove the 4 XNA values\n",
    "df_gender_null = df_fam_null.withColumn(\"CODE_GENDER\", \n",
    "                                            replace_with_NA(df_employed_anom[\"CODE_GENDER\"],\n",
    "                                                            \"XNA\"\n",
    "                                                           )\n",
    "                                       )\n",
    "# df_gender_null.select(\"CODE_GENDER\").filter(col(\"CODE_GENDER\").isNull()).show()\n",
    "# df_gender_null.select(\"CODE_GENDER\").show()#\n",
    "\n",
    "df_gender_null.count() == df_raw.count()"
   ]
  },
  {
   "cell_type": "code",
   "execution_count": 9,
   "metadata": {},
   "outputs": [
    {
     "data": {
      "text/plain": [
       "True"
      ]
     },
     "execution_count": 9,
     "metadata": {},
     "output_type": "execute_result"
    }
   ],
   "source": [
    "# Feature Engineering\n",
    "\n",
    "\n",
    "def domain_features(df_in):\n",
    "    df_in = df_in.withColumn('CREDIT_INCOME_PERCENT', (df_in['AMT_CREDIT'] / df_in['AMT_INCOME_TOTAL']))\n",
    "    df_in = df_in.withColumn('ANNUITY_INCOME_PERCENT', (df_in['AMT_ANNUITY'] / df_in['AMT_INCOME_TOTAL']))\n",
    "    df_in = df_in.withColumn('CREDIT_TERM', (df_in['AMT_ANNUITY'] / df_in['AMT_CREDIT']))\n",
    "    df_in = df_in.withColumn('YEARS_EMPLOYED_PERCENT', (df_in['YEARS_EMPLOYED'] / df_in['AGE']))\n",
    "    return df_in\n",
    "\n",
    "df_cleaned = domain_features(df_gender_null)\n",
    "# df_cleaned.select([\"YEARS_EMPLOYED\", \"AGE\", \"YEARS_EMPLOYED_PERCENT\"]).show()\n",
    "df_cleaned.count() == df_raw.count()"
   ]
  },
  {
   "cell_type": "code",
   "execution_count": null,
   "metadata": {},
   "outputs": [],
   "source": [
    "# Export distributed\n",
    "df_cleaned.write.mode(\"Overwrite\").csv(cleaned_data_loc + \"app_train_cleaned/\")"
   ]
  },
  {
   "cell_type": "code",
   "execution_count": null,
   "metadata": {},
   "outputs": [],
   "source": [
    "# Export single csv file\n",
    "df_cleaned.toPandas().to_csv(cleaned_data_loc + \"app_train_processed.csv\", index=False)"
   ]
  }
 ],
 "metadata": {
  "kernelspec": {
   "display_name": "Python 3",
   "language": "python",
   "name": "python3"
  },
  "language_info": {
   "codemirror_mode": {
    "name": "ipython",
    "version": 3
   },
   "file_extension": ".py",
   "mimetype": "text/x-python",
   "name": "python",
   "nbconvert_exporter": "python",
   "pygments_lexer": "ipython3",
   "version": "3.7.3"
  }
 },
 "nbformat": 4,
 "nbformat_minor": 2
}
